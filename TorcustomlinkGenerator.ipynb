{
  "nbformat": 4,
  "nbformat_minor": 0,
  "metadata": {
    "colab": {
      "provenance": [],
      "toc_visible": true,
      "authorship_tag": "ABX9TyOyspLb21t4GE3tpOihv4hD",
      "include_colab_link": true
    },
    "kernelspec": {
      "name": "python3",
      "display_name": "Python 3"
    },
    "language_info": {
      "name": "python"
    }
  },
  "cells": [
    {
      "cell_type": "markdown",
      "metadata": {
        "id": "view-in-github",
        "colab_type": "text"
      },
      "source": [
        "<a href=\"https://colab.research.google.com/github/aminGhafoory/onion/blob/main/TorcustomlinkGenerator.ipynb\" target=\"_parent\"><img src=\"https://colab.research.google.com/assets/colab-badge.svg\" alt=\"Open In Colab\"/></a>"
      ]
    },
    {
      "cell_type": "code",
      "execution_count": 2,
      "metadata": {
        "colab": {
          "base_uri": "https://localhost:8080/"
        },
        "id": "niLO4RifRaAH",
        "outputId": "38615a6f-eb43-47a5-e962-c2e891134c9a"
      },
      "outputs": [
        {
          "output_type": "stream",
          "name": "stdout",
          "text": [
            "Cloning into 'mkp224o'...\n",
            "remote: Enumerating objects: 1545, done.\u001b[K\n",
            "remote: Counting objects: 100% (376/376), done.\u001b[K\n",
            "remote: Compressing objects: 100% (84/84), done.\u001b[K\n",
            "remote: Total 1545 (delta 328), reused 307 (delta 290), pack-reused 1169\u001b[K\n",
            "Receiving objects: 100% (1545/1545), 1.89 MiB | 5.75 MiB/s, done.\n",
            "Resolving deltas: 100% (969/969), done.\n"
          ]
        }
      ],
      "source": [
        "!git clone https://github.com/cathugger/mkp224o.git"
      ]
    },
    {
      "cell_type": "code",
      "source": [
        "!cd mkp224o/ && ./autogen.sh && ./configure && make\n"
      ],
      "metadata": {
        "id": "wCGYO3pYSBAr"
      },
      "execution_count": null,
      "outputs": []
    },
    {
      "cell_type": "code",
      "source": [
        "!lscpu"
      ],
      "metadata": {
        "colab": {
          "base_uri": "https://localhost:8080/"
        },
        "id": "Dyfl7PefSilQ",
        "outputId": "ad50cd9f-a2d8-46ef-a86e-3cd51638df73"
      },
      "execution_count": 6,
      "outputs": [
        {
          "output_type": "stream",
          "name": "stdout",
          "text": [
            "Architecture:            x86_64\n",
            "  CPU op-mode(s):        32-bit, 64-bit\n",
            "  Address sizes:         46 bits physical, 48 bits virtual\n",
            "  Byte Order:            Little Endian\n",
            "CPU(s):                  2\n",
            "  On-line CPU(s) list:   0,1\n",
            "Vendor ID:               GenuineIntel\n",
            "  Model name:            Intel(R) Xeon(R) CPU @ 2.20GHz\n",
            "    CPU family:          6\n",
            "    Model:               79\n",
            "    Thread(s) per core:  2\n",
            "    Core(s) per socket:  1\n",
            "    Socket(s):           1\n",
            "    Stepping:            0\n",
            "    BogoMIPS:            4400.46\n",
            "    Flags:               fpu vme de pse tsc msr pae mce cx8 apic sep mtrr pge mc\n",
            "                         a cmov pat pse36 clflush mmx fxsr sse sse2 ss ht syscal\n",
            "                         l nx pdpe1gb rdtscp lm constant_tsc rep_good nopl xtopo\n",
            "                         logy nonstop_tsc cpuid tsc_known_freq pni pclmulqdq sss\n",
            "                         e3 fma cx16 pcid sse4_1 sse4_2 x2apic movbe popcnt aes \n",
            "                         xsave avx f16c rdrand hypervisor lahf_lm abm 3dnowprefe\n",
            "                         tch invpcid_single ssbd ibrs ibpb stibp fsgsbase tsc_ad\n",
            "                         just bmi1 hle avx2 smep bmi2 erms invpcid rtm rdseed ad\n",
            "                         x smap xsaveopt arat md_clear arch_capabilities\n",
            "Virtualization features: \n",
            "  Hypervisor vendor:     KVM\n",
            "  Virtualization type:   full\n",
            "Caches (sum of all):     \n",
            "  L1d:                   32 KiB (1 instance)\n",
            "  L1i:                   32 KiB (1 instance)\n",
            "  L2:                    256 KiB (1 instance)\n",
            "  L3:                    55 MiB (1 instance)\n",
            "NUMA:                    \n",
            "  NUMA node(s):          1\n",
            "  NUMA node0 CPU(s):     0,1\n",
            "Vulnerabilities:         \n",
            "  Itlb multihit:         Not affected\n",
            "  L1tf:                  Mitigation; PTE Inversion\n",
            "  Mds:                   Vulnerable; SMT Host state unknown\n",
            "  Meltdown:              Vulnerable\n",
            "  Mmio stale data:       Vulnerable\n",
            "  Retbleed:              Vulnerable\n",
            "  Spec store bypass:     Vulnerable\n",
            "  Spectre v1:            Vulnerable: __user pointer sanitization and usercopy ba\n",
            "                         rriers only; no swapgs barriers\n",
            "  Spectre v2:            Vulnerable, IBPB: disabled, STIBP: disabled, PBRSB-eIBR\n",
            "                         S: Not affected\n",
            "  Srbds:                 Not affected\n",
            "  Tsx async abort:       Vulnerable\n"
          ]
        }
      ]
    },
    {
      "cell_type": "code",
      "source": [
        "! /content/mkp224o/mkp224o filter amin -t 4 -v -n 4 -d ~/Extracts"
      ],
      "metadata": {
        "colab": {
          "base_uri": "https://localhost:8080/"
        },
        "id": "oJGneLoaSwbV",
        "outputId": "11cfe54e-77e3-4c9d-df8a-b44f9f8ad0d6"
      },
      "execution_count": 14,
      "outputs": [
        {
          "output_type": "stream",
          "name": "stdout",
          "text": [
            "set workdir: /root/Extracts/\n",
            "sorting filters... done.\n",
            "filters:\n",
            "\taming\n",
            "\tfilter\n",
            "in total, 2 filters\n",
            "using 4 threads\n",
            "aminggg7lzijf7zz2di7tstb3jrkr6y776eivedmuayo6tyefha465ad.onion\n",
            "amingn4yyxzfdnha63qj4nqye5io5fyii3664omhro44d4pevz34xwad.onion\n",
            "amingk7mtb4omry5zvywkdfpf35dlqtqbhrek7ofho74pojmlxiqi7ad.onion\n",
            "amingabzlzqd4cafhy5maalb4gfqdnydxn6hjmsg46w5pfdrware5uid.onion\n",
            "waiting for threads to finish... done.\n"
          ]
        }
      ]
    },
    {
      "cell_type": "code",
      "source": [
        "!ls ~/Extracts"
      ],
      "metadata": {
        "colab": {
          "base_uri": "https://localhost:8080/"
        },
        "id": "AclUvmwTUHjd",
        "outputId": "9c259493-4bde-49e8-c1d5-b82dc89faf8e"
      },
      "execution_count": 15,
      "outputs": [
        {
          "output_type": "stream",
          "name": "stdout",
          "text": [
            "amingabzlzqd4cafhy5maalb4gfqdnydxn6hjmsg46w5pfdrware5uid.onion\n",
            "aminggg7lzijf7zz2di7tstb3jrkr6y776eivedmuayo6tyefha465ad.onion\n",
            "amingk7mtb4omry5zvywkdfpf35dlqtqbhrek7ofho74pojmlxiqi7ad.onion\n",
            "amingn4yyxzfdnha63qj4nqye5io5fyii3664omhro44d4pevz34xwad.onion\n",
            "aminimmys2t4yqpdd5i37uvaex3x47zlxqycyhnxj5xvelgyccnwl6yd.onion\n",
            "aminmfn25wosau2m4jsck72a5kpjp2z46yxagoe7e3yyxhhwx3wglgqd.onion\n",
            "amint7fyevu5zsxwae6jqdyqtqeavffhq5gyfi74exstunyuvkoxecqd.onion\n",
            "aminz6nplmgyfsjwgq2ybmcuin6je25n5ub235ttf4746qrpclwlgiid.onion\n",
            "fast4cpvxvrodwwanbolofab6prmwaw4hld52cp4m6eyh4nnc6iev6yd.onion\n",
            "faste5b4qu6c7s4smkoaiafl7n3p5v5d75aqbqjcnhssqbxzqo5z5wad.onion\n",
            "fastjkew24og4uieuvtgj3xnapakruldlj4g4c7e3voxohc2mcub32ad.onion\n",
            "fastvlzcaryiaydhr7fglyxqnofthqbcg3xux77h34fax5vowrizypad.onion\n"
          ]
        }
      ]
    },
    {
      "cell_type": "code",
      "source": [
        "!zip -r ~/results.zip ~/Extracts"
      ],
      "metadata": {
        "colab": {
          "base_uri": "https://localhost:8080/"
        },
        "id": "SSUf8jYLUTcM",
        "outputId": "e93bfd62-df75-4286-def0-cde94736af53"
      },
      "execution_count": 17,
      "outputs": [
        {
          "output_type": "stream",
          "name": "stdout",
          "text": [
            "  adding: root/Extracts/ (stored 0%)\n",
            "  adding: root/Extracts/aminmfn25wosau2m4jsck72a5kpjp2z46yxagoe7e3yyxhhwx3wglgqd.onion/ (stored 0%)\n",
            "  adding: root/Extracts/aminmfn25wosau2m4jsck72a5kpjp2z46yxagoe7e3yyxhhwx3wglgqd.onion/hostname (stored 0%)\n",
            "  adding: root/Extracts/aminmfn25wosau2m4jsck72a5kpjp2z46yxagoe7e3yyxhhwx3wglgqd.onion/hs_ed25519_public_key (stored 0%)\n",
            "  adding: root/Extracts/aminmfn25wosau2m4jsck72a5kpjp2z46yxagoe7e3yyxhhwx3wglgqd.onion/hs_ed25519_secret_key (stored 0%)\n",
            "  adding: root/Extracts/amingn4yyxzfdnha63qj4nqye5io5fyii3664omhro44d4pevz34xwad.onion/ (stored 0%)\n",
            "  adding: root/Extracts/amingn4yyxzfdnha63qj4nqye5io5fyii3664omhro44d4pevz34xwad.onion/hostname (deflated 2%)\n",
            "  adding: root/Extracts/amingn4yyxzfdnha63qj4nqye5io5fyii3664omhro44d4pevz34xwad.onion/hs_ed25519_public_key (stored 0%)\n",
            "  adding: root/Extracts/amingn4yyxzfdnha63qj4nqye5io5fyii3664omhro44d4pevz34xwad.onion/hs_ed25519_secret_key (stored 0%)\n",
            "  adding: root/Extracts/fastjkew24og4uieuvtgj3xnapakruldlj4g4c7e3voxohc2mcub32ad.onion/ (stored 0%)\n",
            "  adding: root/Extracts/fastjkew24og4uieuvtgj3xnapakruldlj4g4c7e3voxohc2mcub32ad.onion/hostname (stored 0%)\n",
            "  adding: root/Extracts/fastjkew24og4uieuvtgj3xnapakruldlj4g4c7e3voxohc2mcub32ad.onion/hs_ed25519_public_key (stored 0%)\n",
            "  adding: root/Extracts/fastjkew24og4uieuvtgj3xnapakruldlj4g4c7e3voxohc2mcub32ad.onion/hs_ed25519_secret_key (stored 0%)\n",
            "  adding: root/Extracts/aminz6nplmgyfsjwgq2ybmcuin6je25n5ub235ttf4746qrpclwlgiid.onion/ (stored 0%)\n",
            "  adding: root/Extracts/aminz6nplmgyfsjwgq2ybmcuin6je25n5ub235ttf4746qrpclwlgiid.onion/hostname (stored 0%)\n",
            "  adding: root/Extracts/aminz6nplmgyfsjwgq2ybmcuin6je25n5ub235ttf4746qrpclwlgiid.onion/hs_ed25519_public_key (stored 0%)\n",
            "  adding: root/Extracts/aminz6nplmgyfsjwgq2ybmcuin6je25n5ub235ttf4746qrpclwlgiid.onion/hs_ed25519_secret_key (stored 0%)\n",
            "  adding: root/Extracts/faste5b4qu6c7s4smkoaiafl7n3p5v5d75aqbqjcnhssqbxzqo5z5wad.onion/ (stored 0%)\n",
            "  adding: root/Extracts/faste5b4qu6c7s4smkoaiafl7n3p5v5d75aqbqjcnhssqbxzqo5z5wad.onion/hostname (stored 0%)\n",
            "  adding: root/Extracts/faste5b4qu6c7s4smkoaiafl7n3p5v5d75aqbqjcnhssqbxzqo5z5wad.onion/hs_ed25519_public_key (stored 0%)\n",
            "  adding: root/Extracts/faste5b4qu6c7s4smkoaiafl7n3p5v5d75aqbqjcnhssqbxzqo5z5wad.onion/hs_ed25519_secret_key (stored 0%)\n",
            "  adding: root/Extracts/fast4cpvxvrodwwanbolofab6prmwaw4hld52cp4m6eyh4nnc6iev6yd.onion/ (stored 0%)\n",
            "  adding: root/Extracts/fast4cpvxvrodwwanbolofab6prmwaw4hld52cp4m6eyh4nnc6iev6yd.onion/hostname (deflated 2%)\n",
            "  adding: root/Extracts/fast4cpvxvrodwwanbolofab6prmwaw4hld52cp4m6eyh4nnc6iev6yd.onion/hs_ed25519_public_key (stored 0%)\n",
            "  adding: root/Extracts/fast4cpvxvrodwwanbolofab6prmwaw4hld52cp4m6eyh4nnc6iev6yd.onion/hs_ed25519_secret_key (stored 0%)\n",
            "  adding: root/Extracts/amingabzlzqd4cafhy5maalb4gfqdnydxn6hjmsg46w5pfdrware5uid.onion/ (stored 0%)\n",
            "  adding: root/Extracts/amingabzlzqd4cafhy5maalb4gfqdnydxn6hjmsg46w5pfdrware5uid.onion/hostname (deflated 2%)\n",
            "  adding: root/Extracts/amingabzlzqd4cafhy5maalb4gfqdnydxn6hjmsg46w5pfdrware5uid.onion/hs_ed25519_public_key (stored 0%)\n",
            "  adding: root/Extracts/amingabzlzqd4cafhy5maalb4gfqdnydxn6hjmsg46w5pfdrware5uid.onion/hs_ed25519_secret_key (stored 0%)\n",
            "  adding: root/Extracts/aminimmys2t4yqpdd5i37uvaex3x47zlxqycyhnxj5xvelgyccnwl6yd.onion/ (stored 0%)\n",
            "  adding: root/Extracts/aminimmys2t4yqpdd5i37uvaex3x47zlxqycyhnxj5xvelgyccnwl6yd.onion/hostname (stored 0%)\n",
            "  adding: root/Extracts/aminimmys2t4yqpdd5i37uvaex3x47zlxqycyhnxj5xvelgyccnwl6yd.onion/hs_ed25519_public_key (stored 0%)\n",
            "  adding: root/Extracts/aminimmys2t4yqpdd5i37uvaex3x47zlxqycyhnxj5xvelgyccnwl6yd.onion/hs_ed25519_secret_key (stored 0%)\n",
            "  adding: root/Extracts/fastvlzcaryiaydhr7fglyxqnofthqbcg3xux77h34fax5vowrizypad.onion/ (stored 0%)\n",
            "  adding: root/Extracts/fastvlzcaryiaydhr7fglyxqnofthqbcg3xux77h34fax5vowrizypad.onion/hostname (stored 0%)\n",
            "  adding: root/Extracts/fastvlzcaryiaydhr7fglyxqnofthqbcg3xux77h34fax5vowrizypad.onion/hs_ed25519_public_key (stored 0%)\n",
            "  adding: root/Extracts/fastvlzcaryiaydhr7fglyxqnofthqbcg3xux77h34fax5vowrizypad.onion/hs_ed25519_secret_key (stored 0%)\n",
            "  adding: root/Extracts/aminggg7lzijf7zz2di7tstb3jrkr6y776eivedmuayo6tyefha465ad.onion/ (stored 0%)\n",
            "  adding: root/Extracts/aminggg7lzijf7zz2di7tstb3jrkr6y776eivedmuayo6tyefha465ad.onion/hostname (stored 0%)\n",
            "  adding: root/Extracts/aminggg7lzijf7zz2di7tstb3jrkr6y776eivedmuayo6tyefha465ad.onion/hs_ed25519_public_key (stored 0%)\n",
            "  adding: root/Extracts/aminggg7lzijf7zz2di7tstb3jrkr6y776eivedmuayo6tyefha465ad.onion/hs_ed25519_secret_key (stored 0%)\n",
            "  adding: root/Extracts/amingk7mtb4omry5zvywkdfpf35dlqtqbhrek7ofho74pojmlxiqi7ad.onion/ (stored 0%)\n",
            "  adding: root/Extracts/amingk7mtb4omry5zvywkdfpf35dlqtqbhrek7ofho74pojmlxiqi7ad.onion/hostname (stored 0%)\n",
            "  adding: root/Extracts/amingk7mtb4omry5zvywkdfpf35dlqtqbhrek7ofho74pojmlxiqi7ad.onion/hs_ed25519_public_key (stored 0%)\n",
            "  adding: root/Extracts/amingk7mtb4omry5zvywkdfpf35dlqtqbhrek7ofho74pojmlxiqi7ad.onion/hs_ed25519_secret_key (stored 0%)\n",
            "  adding: root/Extracts/amint7fyevu5zsxwae6jqdyqtqeavffhq5gyfi74exstunyuvkoxecqd.onion/ (stored 0%)\n",
            "  adding: root/Extracts/amint7fyevu5zsxwae6jqdyqtqeavffhq5gyfi74exstunyuvkoxecqd.onion/hostname (stored 0%)\n",
            "  adding: root/Extracts/amint7fyevu5zsxwae6jqdyqtqeavffhq5gyfi74exstunyuvkoxecqd.onion/hs_ed25519_public_key (stored 0%)\n",
            "  adding: root/Extracts/amint7fyevu5zsxwae6jqdyqtqeavffhq5gyfi74exstunyuvkoxecqd.onion/hs_ed25519_secret_key (stored 0%)\n"
          ]
        }
      ]
    },
    {
      "cell_type": "code",
      "source": [
        "from google.colab import files\n",
        "files.download(\"/root/results.zip\")\n"
      ],
      "metadata": {
        "colab": {
          "base_uri": "https://localhost:8080/",
          "height": 17
        },
        "id": "NNq5mMHCU4ok",
        "outputId": "a38405be-71d2-4336-eb03-6b2948746370"
      },
      "execution_count": 20,
      "outputs": [
        {
          "output_type": "display_data",
          "data": {
            "text/plain": [
              "<IPython.core.display.Javascript object>"
            ],
            "application/javascript": [
              "\n",
              "    async function download(id, filename, size) {\n",
              "      if (!google.colab.kernel.accessAllowed) {\n",
              "        return;\n",
              "      }\n",
              "      const div = document.createElement('div');\n",
              "      const label = document.createElement('label');\n",
              "      label.textContent = `Downloading \"${filename}\": `;\n",
              "      div.appendChild(label);\n",
              "      const progress = document.createElement('progress');\n",
              "      progress.max = size;\n",
              "      div.appendChild(progress);\n",
              "      document.body.appendChild(div);\n",
              "\n",
              "      const buffers = [];\n",
              "      let downloaded = 0;\n",
              "\n",
              "      const channel = await google.colab.kernel.comms.open(id);\n",
              "      // Send a message to notify the kernel that we're ready.\n",
              "      channel.send({})\n",
              "\n",
              "      for await (const message of channel.messages) {\n",
              "        // Send a message to notify the kernel that we're ready.\n",
              "        channel.send({})\n",
              "        if (message.buffers) {\n",
              "          for (const buffer of message.buffers) {\n",
              "            buffers.push(buffer);\n",
              "            downloaded += buffer.byteLength;\n",
              "            progress.value = downloaded;\n",
              "          }\n",
              "        }\n",
              "      }\n",
              "      const blob = new Blob(buffers, {type: 'application/binary'});\n",
              "      const a = document.createElement('a');\n",
              "      a.href = window.URL.createObjectURL(blob);\n",
              "      a.download = filename;\n",
              "      div.appendChild(a);\n",
              "      a.click();\n",
              "      div.remove();\n",
              "    }\n",
              "  "
            ]
          },
          "metadata": {}
        },
        {
          "output_type": "display_data",
          "data": {
            "text/plain": [
              "<IPython.core.display.Javascript object>"
            ],
            "application/javascript": [
              "download(\"download_aec5d28a-1e2a-4111-ba08-d5a54851faa7\", \"results.zip\", 17587)"
            ]
          },
          "metadata": {}
        }
      ]
    }
  ]
}